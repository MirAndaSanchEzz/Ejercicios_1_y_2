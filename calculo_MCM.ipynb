{
  "nbformat": 4,
  "nbformat_minor": 0,
  "metadata": {
    "colab": {
      "provenance": [],
      "authorship_tag": "ABX9TyPHGNNwxYPR5PKsYHms12xN",
      "include_colab_link": true
    },
    "kernelspec": {
      "name": "python3",
      "display_name": "Python 3"
    },
    "language_info": {
      "name": "python"
    }
  },
  "cells": [
    {
      "cell_type": "markdown",
      "metadata": {
        "id": "view-in-github",
        "colab_type": "text"
      },
      "source": [
        "<a href=\"https://colab.research.google.com/github/MirAndaSanchEzz/Ejercicios_1_y_2/blob/main/calculo_MCM.ipynb\" target=\"_parent\"><img src=\"https://colab.research.google.com/assets/colab-badge.svg\" alt=\"Open In Colab\"/></a>"
      ]
    },
    {
      "cell_type": "markdown",
      "source": [
        "# Calculo de MCM"
      ],
      "metadata": {
        "id": "uVC76WHbWGVj"
      }
    },
    {
      "cell_type": "code",
      "source": [
        "def gcd(a, b):\n",
        "    while a != 0:\n",
        "        a, b = b % a, a\n",
        "    return b\n",
        "\n",
        "def mcm(a, b):\n",
        "    return a * b // gcd(a, b)\n",
        "\n",
        "num1 = int(input(\"Ingrese el primer número: \"))\n",
        "num2 = int(input(\"Ingrese el segundo número: \"))\n",
        "print(\"El mcm es:\", mcm(num1, num2))"
      ],
      "metadata": {
        "colab": {
          "base_uri": "https://localhost:8080/"
        },
        "id": "Q1Mo97VgPdwv",
        "outputId": "59846af0-1d51-45d4-b003-25106fda13f9"
      },
      "execution_count": 17,
      "outputs": [
        {
          "output_type": "stream",
          "name": "stdout",
          "text": [
            "Ingrese el primer número: 21\n",
            "Ingrese el segundo número: 28\n",
            "El mcm es: 84\n"
          ]
        }
      ]
    }
  ]
}