{
  "nbformat": 4,
  "nbformat_minor": 0,
  "metadata": {
    "colab": {
      "provenance": [],
      "authorship_tag": "ABX9TyMqQmY9aL+mkQGl3oZO1zsW",
      "include_colab_link": true
    },
    "kernelspec": {
      "name": "python3",
      "display_name": "Python 3"
    },
    "language_info": {
      "name": "python"
    }
  },
  "cells": [
    {
      "cell_type": "markdown",
      "metadata": {
        "id": "view-in-github",
        "colab_type": "text"
      },
      "source": [
        "<a href=\"https://colab.research.google.com/github/MirAndaSanchEzz/Ejercicios_1_y_2/blob/main/Calculo_velocidad.ipynb\" target=\"_parent\"><img src=\"https://colab.research.google.com/assets/colab-badge.svg\" alt=\"Open In Colab\"/></a>"
      ]
    },
    {
      "cell_type": "code",
      "execution_count": 1,
      "metadata": {
        "colab": {
          "base_uri": "https://localhost:8080/"
        },
        "id": "NNs6DX8SNvDP",
        "outputId": "294a2a56-c908-4e75-eb46-9c6de6dfeb39"
      },
      "outputs": [
        {
          "output_type": "stream",
          "name": "stdout",
          "text": [
            "ingrese la distancia en metros35\n",
            "ingrese el tiempo empleado en segundos50\n",
            "la velocidad es 0.7 m/s\n"
          ]
        }
      ],
      "source": [
        "distancia = float(input(\"ingrese la distancia en metros\"))\n",
        "tiempo = float(input(\"ingrese el tiempo empleado en segundos\"))\n",
        "v  = distancia/tiempo\n",
        "print(f\"la velocidad es {v} m/s\")"
      ]
    }
  ]
}