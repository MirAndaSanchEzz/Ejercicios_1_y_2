{
  "nbformat": 4,
  "nbformat_minor": 0,
  "metadata": {
    "colab": {
      "provenance": [],
      "authorship_tag": "ABX9TyMJbo/zG3Ywhk/GpxjH0fQ8",
      "include_colab_link": true
    },
    "kernelspec": {
      "name": "python3",
      "display_name": "Python 3"
    },
    "language_info": {
      "name": "python"
    }
  },
  "cells": [
    {
      "cell_type": "markdown",
      "metadata": {
        "id": "view-in-github",
        "colab_type": "text"
      },
      "source": [
        "<a href=\"https://colab.research.google.com/github/MirAndaSanchEzz/Ejercicios_1_y_2/blob/main/tipos_de_datos_python.ipynb\" target=\"_parent\"><img src=\"https://colab.research.google.com/assets/colab-badge.svg\" alt=\"Open In Colab\"/></a>"
      ]
    },
    {
      "cell_type": "markdown",
      "source": [
        "# TIPOS DE DATOS\n",
        "Esos son ejemplos de los tipos de datos que se pueden declarar en Python."
      ],
      "metadata": {
        "id": "l4guNGjDTZjQ"
      }
    },
    {
      "cell_type": "code",
      "execution_count": 21,
      "metadata": {
        "colab": {
          "base_uri": "https://localhost:8080/"
        },
        "id": "Gv-wgBzXTPTy",
        "outputId": "66f419a3-327d-4212-9440-a7057387980d"
      },
      "outputs": [
        {
          "output_type": "stream",
          "name": "stdout",
          "text": [
            "entero: 18 2025\n"
          ]
        }
      ],
      "source": [
        "# int (entero)\n",
        "edad = 18\n",
        "año = 2025\n",
        "print(\"entero:\", edad, año)"
      ]
    },
    {
      "cell_type": "code",
      "source": [
        "# float (decimal)\n",
        "peso = 47.900\n",
        "estatura =  1.47\n",
        "print(\"deimal:\", peso, estatura)"
      ],
      "metadata": {
        "colab": {
          "base_uri": "https://localhost:8080/"
        },
        "id": "jvaAVzxrXmfG",
        "outputId": "2229c5de-4f9c-4541-9ed8-5599d9c41f38"
      },
      "execution_count": 25,
      "outputs": [
        {
          "output_type": "stream",
          "name": "stdout",
          "text": [
            "deimal: 47.9 1.47\n"
          ]
        }
      ]
    },
    {
      "cell_type": "code",
      "source": [
        "# bool (booleano)\n",
        "mayor_edad = True\n",
        "es_alta = False\n",
        "print(\"booleano:\", mayor_edad, es_alta)"
      ],
      "metadata": {
        "colab": {
          "base_uri": "https://localhost:8080/"
        },
        "id": "b_LD9aWeX_lb",
        "outputId": "76062edb-b416-4f89-cd8f-3b1c14c87675"
      },
      "execution_count": 26,
      "outputs": [
        {
          "output_type": "stream",
          "name": "stdout",
          "text": [
            "booleano: True False\n"
          ]
        }
      ]
    },
    {
      "cell_type": "code",
      "source": [
        "# str (cadena)\n",
        "nombre = \"Miranda\"\n",
        "mensaje = \"hola profe\"\n",
        "print(\"cadena:\", nombre, mensaje)\n"
      ],
      "metadata": {
        "colab": {
          "base_uri": "https://localhost:8080/"
        },
        "id": "Z4lTo0V5Y4jV",
        "outputId": "88b16642-75fb-4a97-a9b9-48637723e135"
      },
      "execution_count": 39,
      "outputs": [
        {
          "output_type": "stream",
          "name": "stdout",
          "text": [
            "cadena: Miranda hola profe\n"
          ]
        }
      ]
    },
    {
      "cell_type": "code",
      "source": [
        "# list(lista)\n",
        "frutas = [\"piña\", \"papaya\", \"naranja\"]\n",
        "numeros = [1, 2, 3, 4, 5]\n",
        "mixta = [\"hola\", 123, True]\n",
        "print(\"lista:\", frutas, numeros, mixta)"
      ],
      "metadata": {
        "colab": {
          "base_uri": "https://localhost:8080/"
        },
        "id": "aCT7t5-XcP0W",
        "outputId": "9ac3f854-1bfc-4f61-c645-7c245c91cf32"
      },
      "execution_count": 34,
      "outputs": [
        {
          "output_type": "stream",
          "name": "stdout",
          "text": [
            "lista: ['piña', 'papaya', 'naranja'] [1, 2, 3, 4, 5] ['hola', 123, True]\n"
          ]
        }
      ]
    },
    {
      "cell_type": "code",
      "source": [
        "# tuple (tupla)\n",
        "coordenadas = (21, 19)\n",
        "dias = (\"lunes\", \"martes\", \"miercoles\")\n",
        "print(\"tupla:\", coordenadas, dias)"
      ],
      "metadata": {
        "colab": {
          "base_uri": "https://localhost:8080/"
        },
        "id": "akoym_VSc3H-",
        "outputId": "148dd863-ba03-40af-de72-f6cda441b1fb"
      },
      "execution_count": 35,
      "outputs": [
        {
          "output_type": "stream",
          "name": "stdout",
          "text": [
            "tupla: (21, 19) ('lunes', 'martes', 'miercoles')\n"
          ]
        }
      ]
    },
    {
      "cell_type": "code",
      "source": [
        "# set (conjunto)\n",
        "colores = {\"negro\", \"morado\", \"rojo\"}\n",
        "numeros = {1, 2, 3, 4, 5}\n",
        "print(\"conjunto:\", colores, numeros)"
      ],
      "metadata": {
        "colab": {
          "base_uri": "https://localhost:8080/"
        },
        "id": "pe6bhwG1d5ZR",
        "outputId": "dfdc9ac8-41f3-4c8f-b48c-0a19b299af0d"
      },
      "execution_count": 36,
      "outputs": [
        {
          "output_type": "stream",
          "name": "stdout",
          "text": [
            "conjunto: {'morado', 'negro', 'rojo'} {1, 2, 3, 4, 5}\n"
          ]
        }
      ]
    },
    {
      "cell_type": "code",
      "source": [
        "# dict (diccionario)\n",
        "alumna = {\"nombre\": \"Miranda\", \"edad\": \"18\", \"carrera\": \"ingenieria industrial y de sistemas\"}\n",
        "print(\"diccionario:\", alumna)"
      ],
      "metadata": {
        "colab": {
          "base_uri": "https://localhost:8080/"
        },
        "id": "xf4z6dzQeXBg",
        "outputId": "4970e6e7-9aa3-4727-cb6a-43ed4bcfd01b"
      },
      "execution_count": 40,
      "outputs": [
        {
          "output_type": "stream",
          "name": "stdout",
          "text": [
            "diccionario: {'nombre': 'Miranda', 'edad': '18', 'carrera': 'ingenieria industrial y de sistemas'}\n"
          ]
        }
      ]
    }
  ]
}